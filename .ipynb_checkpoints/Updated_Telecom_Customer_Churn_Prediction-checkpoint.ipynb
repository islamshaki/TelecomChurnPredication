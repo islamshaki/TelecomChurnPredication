{
 "cells": [
  {
   "cell_type": "markdown",
   "id": "841952b8",
   "metadata": {},
   "source": [
    "### 1. Title and Introduction\n",
    "# Telecom Customer Churn Prediction\n",
    "\n",
    "The telecom customer churn prediction project aims to develop a predictive model that can accurately identify customers who are likely to churn. By predicting churn in advance, telecom companies can implement strategies to retain at-risk customers and minimize revenue loss.\n"
   ]
  },
  {
   "cell_type": "markdown",
   "id": "b6df269f",
   "metadata": {},
   "source": [
    "## 2. Data Import and Exploration"
   ]
  },
  {
   "cell_type": "code",
   "execution_count": null,
   "id": "f15c175b",
   "metadata": {},
   "outputs": [],
   "source": [
    "import pandas as pd\n",
    "import numpy as np\n",
    "import matplotlib.pyplot as plt\n",
    "import seaborn as sns\n",
    "from sklearn.model_selection import train_test_split, cross_val_score, StratifiedKFold\n",
    "from sklearn.preprocessing import StandardScaler, OneHotEncoder\n",
    "from sklearn.ensemble import RandomForestClassifier\n",
    "from sklearn.metrics import accuracy_score, classification_report, confusion_matrix, recall_score, f1_score, roc_auc_score, precision_score\n",
    "from sklearn.pipeline import Pipeline\n",
    "\n",
    "# Load dataset\n",
    "df = pd.read_csv('Call_Details_Data.csv')\n",
    "\n",
    "# Display first few rows\n",
    "display(df.head())\n",
    "\n",
    "# Data overview\n",
    "df.info()\n",
    "display(df.describe())"
   ]
  },
  {
   "cell_type": "markdown",
   "id": "27c9507d",
   "metadata": {},
   "source": [
    "## 3. Data Preprocessing"
   ]
  },
  {
   "cell_type": "code",
   "execution_count": null,
   "id": "c4dd4565",
   "metadata": {},
   "outputs": [],
   "source": [
    "# Check for missing values\n",
    "display(df.isnull().sum())\n",
    "\n",
    "# Handling duplicates\n",
    "df = df.drop_duplicates()\n",
    "\n",
    "# Encoding categorical variables\n",
    "encoder = OneHotEncoder(drop='first')\n",
    "categorical_features = [col for col in df.columns if df[col].dtype == 'object']\n",
    "df = pd.get_dummies(df, columns=categorical_features, drop_first=True)\n",
    "\n",
    "# Splitting features and target variable\n",
    "y = df['Churn']\n",
    "X = df.drop(columns=['Churn'])\n",
    "\n",
    "# Normalize features\n",
    "scaler = StandardScaler()\n",
    "X_scaled = scaler.fit_transform(X)"
   ]
  },
  {
   "cell_type": "markdown",
   "id": "87e27fb7",
   "metadata": {},
   "source": [
    "## 4. Exploratory Data Analysis (EDA)"
   ]
  },
  {
   "cell_type": "code",
   "execution_count": null,
   "id": "2cdf7093",
   "metadata": {},
   "outputs": [],
   "source": [
    "# Churn distribution\n",
    "sns.countplot(x='Churn', data=df)\n",
    "plt.title('Churn Distribution')\n",
    "plt.show()\n",
    "\n",
    "# Correlation matrix\n",
    "plt.figure(figsize=(12, 6))\n",
    "sns.heatmap(df.corr(), annot=True, cmap='coolwarm', linewidths=0.5)\n",
    "plt.title('Feature Correlation Heatmap')\n",
    "plt.show()"
   ]
  },
  {
   "cell_type": "markdown",
   "id": "bcd10555",
   "metadata": {},
   "source": [
    "## 5. Model Selection"
   ]
  },
  {
   "cell_type": "code",
   "execution_count": null,
   "id": "b0833503",
   "metadata": {},
   "outputs": [],
   "source": [
    "# Splitting dataset\n",
    "X_train, X_test, y_train, y_test = train_test_split(X_scaled, y, test_size=0.2, random_state=42)\n",
    "\n",
    "# Choosing a classification model\n",
    "model = RandomForestClassifier(n_estimators=100, random_state=42)"
   ]
  },
  {
   "cell_type": "markdown",
   "id": "aebc5f00",
   "metadata": {},
   "source": [
    "## 6. Model Training with Cross-Validation"
   ]
  },
  {
   "cell_type": "code",
   "execution_count": null,
   "id": "695ae409",
   "metadata": {},
   "outputs": [],
   "source": [
    "# Cross-validation setup\n",
    "cv = StratifiedKFold(n_splits=5, shuffle=True, random_state=42)\n",
    "cv_scores = cross_val_score(model, X_train, y_train, cv=cv, scoring='accuracy')\n",
    "\n",
    "print('Cross-Validation Accuracy Scores:', cv_scores)\n",
    "print('Mean CV Accuracy:', np.mean(cv_scores))\n",
    "\n",
    "# Train model\n",
    "model.fit(X_train, y_train)"
   ]
  },
  {
   "cell_type": "markdown",
   "id": "015ce45f",
   "metadata": {},
   "source": [
    "## 7. Model Evaluation"
   ]
  },
  {
   "cell_type": "code",
   "execution_count": null,
   "id": "80df984a",
   "metadata": {},
   "outputs": [],
   "source": [
    "# Predictions\n",
    "y_pred = model.predict(X_test)\n",
    "\n",
    "# Performance Metrics\n",
    "accuracy = accuracy_score(y_test, y_pred)\n",
    "precision = precision_score(y_test, y_pred)\n",
    "recall = recall_score(y_test, y_pred)\n",
    "f1 = f1_score(y_test, y_pred)\n",
    "roc_auc = roc_auc_score(y_test, y_pred)\n",
    "\n",
    "print(f'Accuracy: {accuracy:.4f}')\n",
    "print(f'Precision: {precision:.4f}')\n",
    "print(f'Recall: {recall:.4f}')\n",
    "print(f'F1 Score: {f1:.4f}')\n",
    "print(f'ROC AUC Score: {roc_auc:.4f}')\n",
    "print(classification_report(y_test, y_pred))\n",
    "\n",
    "# Confusion Matrix\n",
    "plt.figure(figsize=(6, 4))\n",
    "sns.heatmap(confusion_matrix(y_test, y_pred), annot=True, fmt='d', cmap='Blues')\n",
    "plt.title('Confusion Matrix')\n",
    "plt.xlabel('Predicted')\n",
    "plt.ylabel('Actual')\n",
    "plt.show()"
   ]
  },
  {
   "cell_type": "markdown",
   "id": "e5e73f9f",
   "metadata": {},
   "source": [
    "## 8. Results Visualization"
   ]
  },
  {
   "cell_type": "code",
   "execution_count": null,
   "id": "d1c7783d",
   "metadata": {},
   "outputs": [],
   "source": [
    "# Feature Importance\n",
    "feature_importance = pd.Series(model.feature_importances_, index=X.columns).sort_values(ascending=False)\n",
    "feature_importance.plot(kind='bar', figsize=(10, 5))\n",
    "plt.title('Feature Importance')\n",
    "plt.show()"
   ]
  },
  {
   "cell_type": "markdown",
   "id": "75ebef71",
   "metadata": {},
   "source": [
    "## 9. Conclusion\n",
    "- The model achieved an accuracy of XX%.\n",
    "- The most important factors affecting churn are [mention top features].\n",
    "- Future work could explore additional ML techniques and deeper feature engineering.\n",
    "- Cross-validation was applied to validate the model's performance."
   ]
  },
  {
   "cell_type": "markdown",
   "id": "6b72c40c",
   "metadata": {},
   "source": [
    "## 10. References\n",
    "- Scikit-learn documentation\n",
    "- Seaborn visualization guide"
   ]
  },
  {
   "cell_type": "markdown",
   "id": "a5d8b6fd",
   "metadata": {},
   "source": [
    "## 11. Code Comments and Documentation\n",
    "- Comments are added throughout the code to explain each step."
   ]
  },
  {
   "cell_type": "markdown",
   "id": "1ad1fefd",
   "metadata": {},
   "source": [
    "## 12. Reproducibility\n",
    "- Ensure dataset is accessible before running.\n",
    "- All necessary libraries are imported at the start."
   ]
  }
 ],
 "metadata": {
  "kernelspec": {
   "display_name": "Python [conda env:base] *",
   "language": "python",
   "name": "conda-base-py"
  },
  "language_info": {
   "codemirror_mode": {
    "name": "ipython",
    "version": 3
   },
   "file_extension": ".py",
   "mimetype": "text/x-python",
   "name": "python",
   "nbconvert_exporter": "python",
   "pygments_lexer": "ipython3",
   "version": "3.12.7"
  }
 },
 "nbformat": 4,
 "nbformat_minor": 5
}
